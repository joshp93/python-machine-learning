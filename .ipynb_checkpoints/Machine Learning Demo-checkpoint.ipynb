{
 "cells": [
  {
   "cell_type": "code",
   "execution_count": 14,
   "id": "49ac2d2c",
   "metadata": {},
   "outputs": [
    {
     "data": {
      "text/plain": [
       "['music-recommender.joblib']"
      ]
     },
     "execution_count": 14,
     "metadata": {},
     "output_type": "execute_result"
    }
   ],
   "source": [
    "import pandas as pd\n",
    "from sklearn.tree import DecisionTreeClassifier\n",
    "from sklearn.model_selection import train_test_split\n",
    "import joblib\n",
    "\n",
    "music_data = pd.read_csv(\"music.csv\")\n",
    "X = music_data.drop(columns=[\"genre\"])\n",
    "y = music_data[\"genre\"]\n",
    "X_train, X_test, y_train, y_test = train_test_split(X.values, y, test_size=0.2)\n",
    "\n",
    "model = DecisionTreeClassifier()\n",
    "model.fit(X_train, y_train)\n",
    "\n",
    "joblib.dump(model, 'music-recommender.joblib')"
   ]
  },
  {
   "cell_type": "code",
   "execution_count": 17,
   "id": "8475023f",
   "metadata": {},
   "outputs": [
    {
     "data": {
      "text/plain": [
       "array(['HipHopJazzFusion'], dtype=object)"
      ]
     },
     "execution_count": 17,
     "metadata": {},
     "output_type": "execute_result"
    }
   ],
   "source": [
    "import pandas as pd\n",
    "import joblib\n",
    "\n",
    "predictions = model.predict(X_test)\n",
    "\n",
    "model = joblib.load('music-recommender.joblib')\n",
    "\n",
    "model.predict([[40, 1]])"
   ]
  }
 ],
 "metadata": {
  "kernelspec": {
   "display_name": "Python 3 (ipykernel)",
   "language": "python",
   "name": "python3"
  },
  "language_info": {
   "codemirror_mode": {
    "name": "ipython",
    "version": 3
   },
   "file_extension": ".py",
   "mimetype": "text/x-python",
   "name": "python",
   "nbconvert_exporter": "python",
   "pygments_lexer": "ipython3",
   "version": "3.10.4"
  }
 },
 "nbformat": 4,
 "nbformat_minor": 5
}
